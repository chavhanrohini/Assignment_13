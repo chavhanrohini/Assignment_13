{
 "cells": [
  {
   "cell_type": "markdown",
   "id": "c25ec801",
   "metadata": {},
   "source": [
    "## 1. What advantages do Excel spreadsheets have over CSV spreadsheets?\n",
    "   Excel spreadsheets have several advantages over CSV spreadsheets:\n",
    "   - Excel supports formatting, formulas, and charts, whereas CSV is plain text and does not support these features.\n",
    "   - Excel can handle multiple sheets in a single file, while CSV typically represents a single table of data per file.\n",
    "   - Excel files (.xlsx) can store data types other than just text, such as dates and numeric values, with better precision.\n",
    "   - Excel allows for password protection and more advanced data validation.\n",
    "\n"
   ]
  },
  {
   "cell_type": "markdown",
   "id": "8822f8ed",
   "metadata": {},
   "source": [
    "## 2. What do you pass to csv.reader() and csv.writer() to create reader and writer objects?\n",
    "\n",
    "   To create reader and writer objects using the `csv` module in Python, you pass a File object opened in the appropriate mode and optionally specify the delimiter and other formatting parameters.\n",
    "\n",
    "   For example:\n",
    "   - `csv.reader(file_object)` creates a reader object for reading CSV data.\n",
    "   - `csv.writer(file_object)` creates a writer object for writing CSV data.\n"
   ]
  },
  {
   "cell_type": "markdown",
   "id": "15ce3e6b",
   "metadata": {},
   "source": [
    "## 3. What modes do File objects for reader and writer objects need to be opened in?\n",
    "\n",
    "   - For reader objects, the File object should be opened in text read mode ('r') or binary read mode ('rb') for CSV files.\n",
    "   - For writer objects, the File object should be opened in text write mode ('w') or binary write mode ('wb') for CSV files.\n"
   ]
  },
  {
   "cell_type": "markdown",
   "id": "5ced8ec8",
   "metadata": {},
   "source": [
    "## 4. What method takes a list argument and writes it to a CSV file?\n",
    "\n",
    "   The `writerow()` method is used to write a list argument to a CSV file. You can use it with a writer object created using `csv.writer()` to write a single row of data to the CSV file.\n"
   ]
  },
  {
   "cell_type": "markdown",
   "id": "9994e9e6",
   "metadata": {},
   "source": [
    "## 5. What do the keyword arguments delimiter and line terminator do?\n",
    "\n",
    "   - The `delimiter` keyword argument specifies the character or string used to separate fields in a CSV file. The default delimiter is a comma (`,`).\n",
    "   - The `lineterminator` keyword argument specifies the character or string used to terminate each line in the CSV file. The default is the newline character (`'\\n'`).\n"
   ]
  },
  {
   "cell_type": "markdown",
   "id": "37db89a7",
   "metadata": {},
   "source": [
    "## 6. What function takes a string of JSON data and returns a Python data structure?\n",
    "\n",
    "   The `json.loads()` function in Python takes a string of JSON data as input and returns a Python data structure (usually a dictionary, list, or scalar values) that corresponds to the JSON data.\n"
   ]
  },
  {
   "cell_type": "markdown",
   "id": "67fc210c",
   "metadata": {},
   "source": [
    "## 7. What function takes a Python data structure and returns a string of JSON data?\n",
    "\n",
    "   The `json.dumps()` function in Python takes a Python data structure as input and returns a string containing the JSON representation of the data. This string can be saved to a file or transmitted over a network as JSON data.\n"
   ]
  },
  {
   "cell_type": "code",
   "execution_count": null,
   "id": "4b2a55ed",
   "metadata": {},
   "outputs": [],
   "source": []
  }
 ],
 "metadata": {
  "kernelspec": {
   "display_name": "Python 3 (ipykernel)",
   "language": "python",
   "name": "python3"
  },
  "language_info": {
   "codemirror_mode": {
    "name": "ipython",
    "version": 3
   },
   "file_extension": ".py",
   "mimetype": "text/x-python",
   "name": "python",
   "nbconvert_exporter": "python",
   "pygments_lexer": "ipython3",
   "version": "3.9.12"
  }
 },
 "nbformat": 4,
 "nbformat_minor": 5
}
